{
 "cells": [
  {
   "cell_type": "markdown",
   "id": "1fe6c242-d85f-4f96-a08b-a7f66bd65b81",
   "metadata": {
    "tags": []
   },
   "source": [
    "# Purpose"
   ]
  },
  {
   "cell_type": "markdown",
   "id": "9105ba4b-9d88-4087-83cc-e379a946821b",
   "metadata": {},
   "source": [
    "I have two goals for this project:\n",
    "\n",
    "1. To help you master data manipulation and visualization\n",
    "1. To help you understand the risk-return tradeoff for several measures of risk"
   ]
  },
  {
   "cell_type": "markdown",
   "id": "f7066dd9-55d1-418d-8c6f-d91b678f1162",
   "metadata": {
    "tags": []
   },
   "source": [
    "# Tasks"
   ]
  },
  {
   "cell_type": "markdown",
   "id": "673843a7-2dc2-4238-bb06-c4873495bf20",
   "metadata": {},
   "source": [
    "## Packages and Settings"
   ]
  },
  {
   "cell_type": "code",
   "execution_count": 4,
   "id": "ff0b1fec-a9ea-4d61-86f8-73e26deac9ab",
   "metadata": {},
   "outputs": [],
   "source": [
    "import matplotlib.pyplot as plt\n",
    "import numpy as np\n",
    "import pandas as pd"
   ]
  },
  {
   "cell_type": "code",
   "execution_count": 5,
   "id": "86c13857-8579-4f50-b771-e4a8c5c27e25",
   "metadata": {},
   "outputs": [],
   "source": [
    "%config InlineBackend.figure_format = 'retina'\n",
    "%precision 4\n",
    "pd.options.display.float_format = '{:.4f}'.format"
   ]
  },
  {
   "cell_type": "markdown",
   "id": "f39e52d6-bd5c-494c-bca6-b559c72633e7",
   "metadata": {
    "tags": []
   },
   "source": [
    "## Data"
   ]
  },
  {
   "cell_type": "markdown",
   "id": "ed940e84-359d-43d2-be51-407cabe35f2b",
   "metadata": {},
   "source": [
    "I used the following code cell to download the data for this project.\n",
    "Leave this code cell commented out and use the CSV files I provided with this notebook."
   ]
  },
  {
   "cell_type": "code",
   "execution_count": 6,
   "id": "3008923a-a97f-4fb5-ae03-815c6df5ea94",
   "metadata": {
    "tags": []
   },
   "outputs": [],
   "source": [
    "# import yfinance as yf\n",
    "# import pandas_datareader as pdr\n",
    "# import requests_cache\n",
    "# session = requests_cache.CachedSession(expire_after=1)"
   ]
  },
  {
   "cell_type": "code",
   "execution_count": 7,
   "id": "8f5c25da-0961-4cde-8fe1-b99fb084b6e4",
   "metadata": {
    "tags": []
   },
   "outputs": [],
   "source": [
    "# wiki = pd.read_html('https://en.wikipedia.org/wiki/Russell_1000_Index')"
   ]
  },
  {
   "cell_type": "code",
   "execution_count": 8,
   "id": "21002e27-749b-4da2-93b0-c5fa13bb8217",
   "metadata": {
    "tags": []
   },
   "outputs": [],
   "source": [
    "# (\n",
    "#     yf.Tickers(\n",
    "#         tickers=wiki[2]['Ticker'].str.replace(pat='.', repl='-', regex=False).to_list(),\n",
    "#         session=session\n",
    "#     )\n",
    "#     .history(period='max', auto_adjust=False)\n",
    "#     .assign(Date = lambda x: x.index.tz_localize(None))\n",
    "#     .set_index('Date')\n",
    "#     .rename_axis(columns=['Variable', 'Ticker'])\n",
    "#     ['Adj Close']\n",
    "#     .pct_change()\n",
    "#     .loc['1962':'2022']\n",
    "#     .to_csv('returns.csv')\n",
    "# )"
   ]
  },
  {
   "cell_type": "code",
   "execution_count": 9,
   "id": "a8b85d18-bc07-4535-9b4d-0506a390adda",
   "metadata": {
    "tags": []
   },
   "outputs": [],
   "source": [
    "# (\n",
    "#     pdr.DataReader(\n",
    "#         name='F-F_Research_Data_Factors_daily',\n",
    "#         data_source='famafrench',\n",
    "#         start='1900',\n",
    "#         session=session\n",
    "#     )\n",
    "#     [0]\n",
    "#     .rename_axis(columns='Variable')\n",
    "#     .div(100)\n",
    "#     .loc['1962':'2022']\n",
    "#     .to_csv('ff.csv')\n",
    "# )"
   ]
  },
  {
   "cell_type": "markdown",
   "id": "2f9d28b3-3c6f-4868-b232-3dbc62244af7",
   "metadata": {},
   "source": [
    "Run the following code cell to read the data for this project.\n",
    "The `returns.csv` file contains daily returns for the Russell 1000 stocks from 1962 through 2022, and the `ff.csv` contains daily Fama and French factors from 1962 through 2022."
   ]
  },
  {
   "cell_type": "code",
   "execution_count": 10,
   "id": "b020eb60-095f-4b1e-bf8a-561cc6aa5c63",
   "metadata": {},
   "outputs": [],
   "source": [
    "returns = pd.read_csv('returns.csv', index_col='Date', parse_dates=True)\n",
    "ff = pd.read_csv('ff.csv', index_col='Date', parse_dates=True)"
   ]
  },
  {
   "cell_type": "code",
   "execution_count": 11,
   "id": "55003bba-b870-4adb-81d1-123adbcf9eb8",
   "metadata": {},
   "outputs": [
    {
     "data": {
      "text/html": [
       "<div>\n",
       "<style scoped>\n",
       "    .dataframe tbody tr th:only-of-type {\n",
       "        vertical-align: middle;\n",
       "    }\n",
       "\n",
       "    .dataframe tbody tr th {\n",
       "        vertical-align: top;\n",
       "    }\n",
       "\n",
       "    .dataframe thead th {\n",
       "        text-align: right;\n",
       "    }\n",
       "</style>\n",
       "<table border=\"1\" class=\"dataframe\">\n",
       "  <thead>\n",
       "    <tr style=\"text-align: right;\">\n",
       "      <th></th>\n",
       "      <th>A</th>\n",
       "      <th>AA</th>\n",
       "      <th>AAL</th>\n",
       "      <th>AAP</th>\n",
       "      <th>AAPL</th>\n",
       "      <th>ABBV</th>\n",
       "      <th>ABC</th>\n",
       "      <th>ABNB</th>\n",
       "      <th>ABT</th>\n",
       "      <th>ACGL</th>\n",
       "      <th>...</th>\n",
       "      <th>YUM</th>\n",
       "      <th>Z</th>\n",
       "      <th>ZBH</th>\n",
       "      <th>ZBRA</th>\n",
       "      <th>ZG</th>\n",
       "      <th>ZI</th>\n",
       "      <th>ZION</th>\n",
       "      <th>ZM</th>\n",
       "      <th>ZS</th>\n",
       "      <th>ZTS</th>\n",
       "    </tr>\n",
       "    <tr>\n",
       "      <th>Date</th>\n",
       "      <th></th>\n",
       "      <th></th>\n",
       "      <th></th>\n",
       "      <th></th>\n",
       "      <th></th>\n",
       "      <th></th>\n",
       "      <th></th>\n",
       "      <th></th>\n",
       "      <th></th>\n",
       "      <th></th>\n",
       "      <th></th>\n",
       "      <th></th>\n",
       "      <th></th>\n",
       "      <th></th>\n",
       "      <th></th>\n",
       "      <th></th>\n",
       "      <th></th>\n",
       "      <th></th>\n",
       "      <th></th>\n",
       "      <th></th>\n",
       "      <th></th>\n",
       "    </tr>\n",
       "  </thead>\n",
       "  <tbody>\n",
       "    <tr>\n",
       "      <th>1962-01-02</th>\n",
       "      <td>NaN</td>\n",
       "      <td>NaN</td>\n",
       "      <td>NaN</td>\n",
       "      <td>NaN</td>\n",
       "      <td>NaN</td>\n",
       "      <td>NaN</td>\n",
       "      <td>NaN</td>\n",
       "      <td>NaN</td>\n",
       "      <td>NaN</td>\n",
       "      <td>NaN</td>\n",
       "      <td>...</td>\n",
       "      <td>NaN</td>\n",
       "      <td>NaN</td>\n",
       "      <td>NaN</td>\n",
       "      <td>NaN</td>\n",
       "      <td>NaN</td>\n",
       "      <td>NaN</td>\n",
       "      <td>NaN</td>\n",
       "      <td>NaN</td>\n",
       "      <td>NaN</td>\n",
       "      <td>NaN</td>\n",
       "    </tr>\n",
       "    <tr>\n",
       "      <th>1962-01-03</th>\n",
       "      <td>NaN</td>\n",
       "      <td>0.0153</td>\n",
       "      <td>NaN</td>\n",
       "      <td>NaN</td>\n",
       "      <td>NaN</td>\n",
       "      <td>NaN</td>\n",
       "      <td>NaN</td>\n",
       "      <td>NaN</td>\n",
       "      <td>NaN</td>\n",
       "      <td>NaN</td>\n",
       "      <td>...</td>\n",
       "      <td>NaN</td>\n",
       "      <td>NaN</td>\n",
       "      <td>NaN</td>\n",
       "      <td>NaN</td>\n",
       "      <td>NaN</td>\n",
       "      <td>NaN</td>\n",
       "      <td>NaN</td>\n",
       "      <td>NaN</td>\n",
       "      <td>NaN</td>\n",
       "      <td>NaN</td>\n",
       "    </tr>\n",
       "    <tr>\n",
       "      <th>1962-01-04</th>\n",
       "      <td>NaN</td>\n",
       "      <td>0.0000</td>\n",
       "      <td>NaN</td>\n",
       "      <td>NaN</td>\n",
       "      <td>NaN</td>\n",
       "      <td>NaN</td>\n",
       "      <td>NaN</td>\n",
       "      <td>NaN</td>\n",
       "      <td>NaN</td>\n",
       "      <td>NaN</td>\n",
       "      <td>...</td>\n",
       "      <td>NaN</td>\n",
       "      <td>NaN</td>\n",
       "      <td>NaN</td>\n",
       "      <td>NaN</td>\n",
       "      <td>NaN</td>\n",
       "      <td>NaN</td>\n",
       "      <td>NaN</td>\n",
       "      <td>NaN</td>\n",
       "      <td>NaN</td>\n",
       "      <td>NaN</td>\n",
       "    </tr>\n",
       "    <tr>\n",
       "      <th>1962-01-05</th>\n",
       "      <td>NaN</td>\n",
       "      <td>-0.0019</td>\n",
       "      <td>NaN</td>\n",
       "      <td>NaN</td>\n",
       "      <td>NaN</td>\n",
       "      <td>NaN</td>\n",
       "      <td>NaN</td>\n",
       "      <td>NaN</td>\n",
       "      <td>NaN</td>\n",
       "      <td>NaN</td>\n",
       "      <td>...</td>\n",
       "      <td>NaN</td>\n",
       "      <td>NaN</td>\n",
       "      <td>NaN</td>\n",
       "      <td>NaN</td>\n",
       "      <td>NaN</td>\n",
       "      <td>NaN</td>\n",
       "      <td>NaN</td>\n",
       "      <td>NaN</td>\n",
       "      <td>NaN</td>\n",
       "      <td>NaN</td>\n",
       "    </tr>\n",
       "    <tr>\n",
       "      <th>1962-01-08</th>\n",
       "      <td>NaN</td>\n",
       "      <td>-0.0340</td>\n",
       "      <td>NaN</td>\n",
       "      <td>NaN</td>\n",
       "      <td>NaN</td>\n",
       "      <td>NaN</td>\n",
       "      <td>NaN</td>\n",
       "      <td>NaN</td>\n",
       "      <td>NaN</td>\n",
       "      <td>NaN</td>\n",
       "      <td>...</td>\n",
       "      <td>NaN</td>\n",
       "      <td>NaN</td>\n",
       "      <td>NaN</td>\n",
       "      <td>NaN</td>\n",
       "      <td>NaN</td>\n",
       "      <td>NaN</td>\n",
       "      <td>NaN</td>\n",
       "      <td>NaN</td>\n",
       "      <td>NaN</td>\n",
       "      <td>NaN</td>\n",
       "    </tr>\n",
       "    <tr>\n",
       "      <th>...</th>\n",
       "      <td>...</td>\n",
       "      <td>...</td>\n",
       "      <td>...</td>\n",
       "      <td>...</td>\n",
       "      <td>...</td>\n",
       "      <td>...</td>\n",
       "      <td>...</td>\n",
       "      <td>...</td>\n",
       "      <td>...</td>\n",
       "      <td>...</td>\n",
       "      <td>...</td>\n",
       "      <td>...</td>\n",
       "      <td>...</td>\n",
       "      <td>...</td>\n",
       "      <td>...</td>\n",
       "      <td>...</td>\n",
       "      <td>...</td>\n",
       "      <td>...</td>\n",
       "      <td>...</td>\n",
       "      <td>...</td>\n",
       "      <td>...</td>\n",
       "    </tr>\n",
       "    <tr>\n",
       "      <th>2022-12-23</th>\n",
       "      <td>0.0015</td>\n",
       "      <td>0.0080</td>\n",
       "      <td>0.0119</td>\n",
       "      <td>0.0084</td>\n",
       "      <td>-0.0028</td>\n",
       "      <td>-0.0010</td>\n",
       "      <td>0.0044</td>\n",
       "      <td>0.0045</td>\n",
       "      <td>0.0014</td>\n",
       "      <td>0.0084</td>\n",
       "      <td>...</td>\n",
       "      <td>0.0006</td>\n",
       "      <td>-0.0099</td>\n",
       "      <td>0.0011</td>\n",
       "      <td>0.0029</td>\n",
       "      <td>-0.0099</td>\n",
       "      <td>-0.0052</td>\n",
       "      <td>0.0035</td>\n",
       "      <td>-0.0008</td>\n",
       "      <td>-0.0053</td>\n",
       "      <td>0.0050</td>\n",
       "    </tr>\n",
       "    <tr>\n",
       "      <th>2022-12-27</th>\n",
       "      <td>0.0021</td>\n",
       "      <td>0.0149</td>\n",
       "      <td>-0.0142</td>\n",
       "      <td>0.0121</td>\n",
       "      <td>-0.0139</td>\n",
       "      <td>-0.0007</td>\n",
       "      <td>-0.0059</td>\n",
       "      <td>-0.0206</td>\n",
       "      <td>0.0036</td>\n",
       "      <td>0.0038</td>\n",
       "      <td>...</td>\n",
       "      <td>0.0078</td>\n",
       "      <td>-0.0190</td>\n",
       "      <td>0.0047</td>\n",
       "      <td>0.0112</td>\n",
       "      <td>-0.0181</td>\n",
       "      <td>-0.0087</td>\n",
       "      <td>0.0080</td>\n",
       "      <td>-0.0065</td>\n",
       "      <td>-0.0111</td>\n",
       "      <td>-0.0032</td>\n",
       "    </tr>\n",
       "    <tr>\n",
       "      <th>2022-12-28</th>\n",
       "      <td>-0.0098</td>\n",
       "      <td>-0.0236</td>\n",
       "      <td>-0.0168</td>\n",
       "      <td>0.0019</td>\n",
       "      <td>-0.0307</td>\n",
       "      <td>-0.0047</td>\n",
       "      <td>-0.0097</td>\n",
       "      <td>-0.0120</td>\n",
       "      <td>-0.0068</td>\n",
       "      <td>-0.0160</td>\n",
       "      <td>...</td>\n",
       "      <td>-0.0045</td>\n",
       "      <td>-0.0372</td>\n",
       "      <td>-0.0101</td>\n",
       "      <td>-0.0166</td>\n",
       "      <td>-0.0365</td>\n",
       "      <td>-0.0042</td>\n",
       "      <td>-0.0178</td>\n",
       "      <td>-0.0015</td>\n",
       "      <td>0.0027</td>\n",
       "      <td>-0.0101</td>\n",
       "    </tr>\n",
       "    <tr>\n",
       "      <th>2022-12-29</th>\n",
       "      <td>0.0203</td>\n",
       "      <td>0.0630</td>\n",
       "      <td>0.0308</td>\n",
       "      <td>0.0070</td>\n",
       "      <td>0.0283</td>\n",
       "      <td>0.0020</td>\n",
       "      <td>-0.0078</td>\n",
       "      <td>0.0332</td>\n",
       "      <td>0.0230</td>\n",
       "      <td>0.0081</td>\n",
       "      <td>...</td>\n",
       "      <td>0.0053</td>\n",
       "      <td>0.0217</td>\n",
       "      <td>0.0146</td>\n",
       "      <td>0.0433</td>\n",
       "      <td>0.0234</td>\n",
       "      <td>0.0605</td>\n",
       "      <td>0.0231</td>\n",
       "      <td>0.0404</td>\n",
       "      <td>0.0372</td>\n",
       "      <td>0.0300</td>\n",
       "    </tr>\n",
       "    <tr>\n",
       "      <th>2022-12-30</th>\n",
       "      <td>-0.0081</td>\n",
       "      <td>-0.0234</td>\n",
       "      <td>0.0016</td>\n",
       "      <td>0.0049</td>\n",
       "      <td>0.0025</td>\n",
       "      <td>-0.0058</td>\n",
       "      <td>-0.0020</td>\n",
       "      <td>0.0032</td>\n",
       "      <td>-0.0047</td>\n",
       "      <td>-0.0052</td>\n",
       "      <td>...</td>\n",
       "      <td>-0.0147</td>\n",
       "      <td>0.0075</td>\n",
       "      <td>-0.0026</td>\n",
       "      <td>-0.0043</td>\n",
       "      <td>0.0035</td>\n",
       "      <td>-0.0013</td>\n",
       "      <td>0.0016</td>\n",
       "      <td>-0.0038</td>\n",
       "      <td>0.0003</td>\n",
       "      <td>-0.0108</td>\n",
       "    </tr>\n",
       "  </tbody>\n",
       "</table>\n",
       "<p>15356 rows × 1010 columns</p>\n",
       "</div>"
      ],
      "text/plain": [
       "                 A      AA     AAL    AAP    AAPL    ABBV     ABC    ABNB  \\\n",
       "Date                                                                        \n",
       "1962-01-02     NaN     NaN     NaN    NaN     NaN     NaN     NaN     NaN   \n",
       "1962-01-03     NaN  0.0153     NaN    NaN     NaN     NaN     NaN     NaN   \n",
       "1962-01-04     NaN  0.0000     NaN    NaN     NaN     NaN     NaN     NaN   \n",
       "1962-01-05     NaN -0.0019     NaN    NaN     NaN     NaN     NaN     NaN   \n",
       "1962-01-08     NaN -0.0340     NaN    NaN     NaN     NaN     NaN     NaN   \n",
       "...            ...     ...     ...    ...     ...     ...     ...     ...   \n",
       "2022-12-23  0.0015  0.0080  0.0119 0.0084 -0.0028 -0.0010  0.0044  0.0045   \n",
       "2022-12-27  0.0021  0.0149 -0.0142 0.0121 -0.0139 -0.0007 -0.0059 -0.0206   \n",
       "2022-12-28 -0.0098 -0.0236 -0.0168 0.0019 -0.0307 -0.0047 -0.0097 -0.0120   \n",
       "2022-12-29  0.0203  0.0630  0.0308 0.0070  0.0283  0.0020 -0.0078  0.0332   \n",
       "2022-12-30 -0.0081 -0.0234  0.0016 0.0049  0.0025 -0.0058 -0.0020  0.0032   \n",
       "\n",
       "               ABT    ACGL  ...     YUM       Z     ZBH    ZBRA      ZG  \\\n",
       "Date                        ...                                           \n",
       "1962-01-02     NaN     NaN  ...     NaN     NaN     NaN     NaN     NaN   \n",
       "1962-01-03     NaN     NaN  ...     NaN     NaN     NaN     NaN     NaN   \n",
       "1962-01-04     NaN     NaN  ...     NaN     NaN     NaN     NaN     NaN   \n",
       "1962-01-05     NaN     NaN  ...     NaN     NaN     NaN     NaN     NaN   \n",
       "1962-01-08     NaN     NaN  ...     NaN     NaN     NaN     NaN     NaN   \n",
       "...            ...     ...  ...     ...     ...     ...     ...     ...   \n",
       "2022-12-23  0.0014  0.0084  ...  0.0006 -0.0099  0.0011  0.0029 -0.0099   \n",
       "2022-12-27  0.0036  0.0038  ...  0.0078 -0.0190  0.0047  0.0112 -0.0181   \n",
       "2022-12-28 -0.0068 -0.0160  ... -0.0045 -0.0372 -0.0101 -0.0166 -0.0365   \n",
       "2022-12-29  0.0230  0.0081  ...  0.0053  0.0217  0.0146  0.0433  0.0234   \n",
       "2022-12-30 -0.0047 -0.0052  ... -0.0147  0.0075 -0.0026 -0.0043  0.0035   \n",
       "\n",
       "                ZI    ZION      ZM      ZS     ZTS  \n",
       "Date                                                \n",
       "1962-01-02     NaN     NaN     NaN     NaN     NaN  \n",
       "1962-01-03     NaN     NaN     NaN     NaN     NaN  \n",
       "1962-01-04     NaN     NaN     NaN     NaN     NaN  \n",
       "1962-01-05     NaN     NaN     NaN     NaN     NaN  \n",
       "1962-01-08     NaN     NaN     NaN     NaN     NaN  \n",
       "...            ...     ...     ...     ...     ...  \n",
       "2022-12-23 -0.0052  0.0035 -0.0008 -0.0053  0.0050  \n",
       "2022-12-27 -0.0087  0.0080 -0.0065 -0.0111 -0.0032  \n",
       "2022-12-28 -0.0042 -0.0178 -0.0015  0.0027 -0.0101  \n",
       "2022-12-29  0.0605  0.0231  0.0404  0.0372  0.0300  \n",
       "2022-12-30 -0.0013  0.0016 -0.0038  0.0003 -0.0108  \n",
       "\n",
       "[15356 rows x 1010 columns]"
      ]
     },
     "execution_count": 11,
     "metadata": {},
     "output_type": "execute_result"
    }
   ],
   "source": [
    "returns"
   ]
  },
  {
   "cell_type": "code",
   "execution_count": 12,
   "id": "81211d1e-7d22-4d21-af29-3381b6810520",
   "metadata": {},
   "outputs": [
    {
     "data": {
      "text/html": [
       "<div>\n",
       "<style scoped>\n",
       "    .dataframe tbody tr th:only-of-type {\n",
       "        vertical-align: middle;\n",
       "    }\n",
       "\n",
       "    .dataframe tbody tr th {\n",
       "        vertical-align: top;\n",
       "    }\n",
       "\n",
       "    .dataframe thead th {\n",
       "        text-align: right;\n",
       "    }\n",
       "</style>\n",
       "<table border=\"1\" class=\"dataframe\">\n",
       "  <thead>\n",
       "    <tr style=\"text-align: right;\">\n",
       "      <th></th>\n",
       "      <th>Mkt-RF</th>\n",
       "      <th>SMB</th>\n",
       "      <th>HML</th>\n",
       "      <th>RF</th>\n",
       "    </tr>\n",
       "    <tr>\n",
       "      <th>Date</th>\n",
       "      <th></th>\n",
       "      <th></th>\n",
       "      <th></th>\n",
       "      <th></th>\n",
       "    </tr>\n",
       "  </thead>\n",
       "  <tbody>\n",
       "    <tr>\n",
       "      <th>1962-01-02</th>\n",
       "      <td>-0.0080</td>\n",
       "      <td>0.0087</td>\n",
       "      <td>0.0058</td>\n",
       "      <td>0.0001</td>\n",
       "    </tr>\n",
       "    <tr>\n",
       "      <th>1962-01-03</th>\n",
       "      <td>0.0024</td>\n",
       "      <td>0.0021</td>\n",
       "      <td>0.0097</td>\n",
       "      <td>0.0001</td>\n",
       "    </tr>\n",
       "    <tr>\n",
       "      <th>1962-01-04</th>\n",
       "      <td>-0.0083</td>\n",
       "      <td>0.0001</td>\n",
       "      <td>0.0066</td>\n",
       "      <td>0.0001</td>\n",
       "    </tr>\n",
       "    <tr>\n",
       "      <th>1962-01-05</th>\n",
       "      <td>-0.0134</td>\n",
       "      <td>0.0008</td>\n",
       "      <td>0.0032</td>\n",
       "      <td>0.0001</td>\n",
       "    </tr>\n",
       "    <tr>\n",
       "      <th>1962-01-08</th>\n",
       "      <td>-0.0075</td>\n",
       "      <td>0.0021</td>\n",
       "      <td>0.0032</td>\n",
       "      <td>0.0001</td>\n",
       "    </tr>\n",
       "    <tr>\n",
       "      <th>...</th>\n",
       "      <td>...</td>\n",
       "      <td>...</td>\n",
       "      <td>...</td>\n",
       "      <td>...</td>\n",
       "    </tr>\n",
       "    <tr>\n",
       "      <th>2022-12-23</th>\n",
       "      <td>0.0051</td>\n",
       "      <td>-0.0060</td>\n",
       "      <td>0.0115</td>\n",
       "      <td>0.0002</td>\n",
       "    </tr>\n",
       "    <tr>\n",
       "      <th>2022-12-27</th>\n",
       "      <td>-0.0051</td>\n",
       "      <td>-0.0073</td>\n",
       "      <td>0.0142</td>\n",
       "      <td>0.0002</td>\n",
       "    </tr>\n",
       "    <tr>\n",
       "      <th>2022-12-28</th>\n",
       "      <td>-0.0123</td>\n",
       "      <td>-0.0025</td>\n",
       "      <td>-0.0029</td>\n",
       "      <td>0.0002</td>\n",
       "    </tr>\n",
       "    <tr>\n",
       "      <th>2022-12-29</th>\n",
       "      <td>0.0187</td>\n",
       "      <td>0.0127</td>\n",
       "      <td>-0.0107</td>\n",
       "      <td>0.0002</td>\n",
       "    </tr>\n",
       "    <tr>\n",
       "      <th>2022-12-30</th>\n",
       "      <td>-0.0022</td>\n",
       "      <td>0.0011</td>\n",
       "      <td>-0.0003</td>\n",
       "      <td>0.0002</td>\n",
       "    </tr>\n",
       "  </tbody>\n",
       "</table>\n",
       "<p>15356 rows × 4 columns</p>\n",
       "</div>"
      ],
      "text/plain": [
       "            Mkt-RF     SMB     HML     RF\n",
       "Date                                     \n",
       "1962-01-02 -0.0080  0.0087  0.0058 0.0001\n",
       "1962-01-03  0.0024  0.0021  0.0097 0.0001\n",
       "1962-01-04 -0.0083  0.0001  0.0066 0.0001\n",
       "1962-01-05 -0.0134  0.0008  0.0032 0.0001\n",
       "1962-01-08 -0.0075  0.0021  0.0032 0.0001\n",
       "...            ...     ...     ...    ...\n",
       "2022-12-23  0.0051 -0.0060  0.0115 0.0002\n",
       "2022-12-27 -0.0051 -0.0073  0.0142 0.0002\n",
       "2022-12-28 -0.0123 -0.0025 -0.0029 0.0002\n",
       "2022-12-29  0.0187  0.0127 -0.0107 0.0002\n",
       "2022-12-30 -0.0022  0.0011 -0.0003 0.0002\n",
       "\n",
       "[15356 rows x 4 columns]"
      ]
     },
     "execution_count": 12,
     "metadata": {},
     "output_type": "execute_result"
    }
   ],
   "source": [
    "ff"
   ]
  },
  {
   "cell_type": "code",
   "execution_count": null,
   "id": "314a2793-1c67-4e82-90c3-c198812c4d97",
   "metadata": {},
   "outputs": [],
   "source": []
  },
  {
   "cell_type": "markdown",
   "id": "d93ffe01-715a-427b-a8a5-c8067ed6918c",
   "metadata": {
    "tags": []
   },
   "source": [
    "## Single Stocks"
   ]
  },
  {
   "cell_type": "markdown",
   "id": "73d4ed4f-901a-468b-81e9-f82c0d71c5bc",
   "metadata": {},
   "source": [
    "For this section, use the single stock returns in `returns`.\n",
    "You may select years $t$ and $t+1$, but only use stocks with complete returns data for years $t$ and $t+1$."
   ]
  },
  {
   "cell_type": "markdown",
   "id": "9176dd50-274d-4246-9805-6fed66760034",
   "metadata": {
    "tags": []
   },
   "source": [
    "### Task 1: Do mean returns in year $t$ predict mean returns in year $t+1$?"
   ]
  },
  {
   "cell_type": "code",
   "execution_count": 41,
   "id": "1f94e067-8b7e-4049-9aa7-333da5c0d6fd",
   "metadata": {},
   "outputs": [],
   "source": [
    "def mean_return(returns, ticker, start_date, end_date):\n",
    "    t = returns[ticker].loc[start_date:end_date].dropna()\n",
    "    t_mean = t.mean()\n",
    "    return t_mean"
   ]
  },
  {
   "cell_type": "code",
   "execution_count": null,
   "id": "43df75a9-06bc-4883-adae-afc9643cc4b4",
   "metadata": {},
   "outputs": [],
   "source": []
  },
  {
   "cell_type": "markdown",
   "id": "c26242c6-e202-49b6-81eb-765dcd1790ce",
   "metadata": {
    "tags": []
   },
   "source": [
    "### Task 2: Does volatility in year $t$ predict volatility in year $t+1$?"
   ]
  },
  {
   "cell_type": "code",
   "execution_count": 39,
   "id": "335bf194-185b-4a9b-9bd8-e5f69eab7d7b",
   "metadata": {},
   "outputs": [
    {
     "data": {
      "text/plain": [
       "0.0147"
      ]
     },
     "execution_count": 39,
     "metadata": {},
     "output_type": "execute_result"
    }
   ],
   "source": [
    "def vol_returns(returns, ticker, start_date, end_date):\n",
    "    s = returns[ticker].loc[start_date:end_date].dropna()\n",
    "    v = s.std().\n",
    "    return v\n",
    "vol_returns(returns, 'AAPL', '2016-01-01', '2016-12-31')"
   ]
  },
  {
   "cell_type": "markdown",
   "id": "6f3bdbf9-1369-457e-8e47-90334d5b527b",
   "metadata": {
    "tags": []
   },
   "source": [
    "### Task 3: Do Sharpe Ratios in year $t$ predict Sharpe Ratios in year $t+1$?"
   ]
  },
  {
   "cell_type": "code",
   "execution_count": 18,
   "id": "173a6881-f6c4-4079-a6ad-d0958e24943c",
   "metadata": {},
   "outputs": [
    {
     "data": {
      "text/plain": [
       "<pandas.core.resample.DatetimeIndexResampler object at 0x7fa6d0a9dac0>"
      ]
     },
     "execution_count": 18,
     "metadata": {},
     "output_type": "execute_result"
    }
   ],
   "source": [
    "# adjclose_16_17 = returns['AAPL'].loc['2016':'2017'].pct_change().resample('Y')\n",
    "# adjclose_16_17\n"
   ]
  },
  {
   "cell_type": "code",
   "execution_count": 40,
   "id": "80e06d07-a46f-49c3-a886-022f2fec8945",
   "metadata": {},
   "outputs": [],
   "source": [
    "def sharpe(ri, rf=ff['RF']):\n",
    "     ri_rf = ri.sub(rf).dropna().groupby(ff.Grouper(freq='Y')).loc['2016']\n",
    "     return np.sqrt(252) * ri_rf.mean() / ri_rf.std()\n"
   ]
  },
  {
   "cell_type": "code",
   "execution_count": 31,
   "id": "79df4fde-c297-49a1-9b12-e4a3c9e66732",
   "metadata": {},
   "outputs": [
    {
     "ename": "NameError",
     "evalue": "name 'returns_2020s' is not defined",
     "output_type": "error",
     "traceback": [
      "\u001b[0;31m---------------------------------------------------------------------------\u001b[0m",
      "\u001b[0;31mNameError\u001b[0m                                 Traceback (most recent call last)",
      "Input \u001b[0;32mIn [31]\u001b[0m, in \u001b[0;36m<cell line: 1>\u001b[0;34m()\u001b[0m\n\u001b[0;32m----> 1\u001b[0m sharpe(\u001b[43mreturns_2020s\u001b[49m[\u001b[38;5;124m'\u001b[39m\u001b[38;5;124mTSLA\u001b[39m\u001b[38;5;124m'\u001b[39m])\n",
      "\u001b[0;31mNameError\u001b[0m: name 'returns_2020s' is not defined"
     ]
    }
   ],
   "source": [
    "sharpe(returns_2020s['AAPL'].loc['2016':'2017'])"
   ]
  },
  {
   "cell_type": "markdown",
   "id": "1bc5b134-0182-455c-9dc4-9e856cf169cf",
   "metadata": {
    "tags": []
   },
   "source": [
    "### Task 4: Do CAPM betas in year $t$ predict CAPM betas in year $t+1$?"
   ]
  },
  {
   "cell_type": "markdown",
   "id": "623d9190-867c-407c-8edc-e0366e99af74",
   "metadata": {
    "tags": []
   },
   "source": [
    "### Task 5: Does volatility in year $t$ predict *mean returns* in year $t+1"
   ]
  },
  {
   "cell_type": "code",
   "execution_count": null,
   "id": "49dfc686-c960-491c-a834-e3fcf9954fc4",
   "metadata": {},
   "outputs": [],
   "source": []
  },
  {
   "cell_type": "markdown",
   "id": "3c716b00-dcce-411c-a2ac-0ad3a0a1698a",
   "metadata": {
    "tags": []
   },
   "source": [
    "### Task 6: Does CAPM beta in year $t$ predict *mean returns* in year $t+1$?"
   ]
  },
  {
   "cell_type": "markdown",
   "id": "439cc3c0-8a61-41ae-89f0-aef3c02f96fc",
   "metadata": {
    "tags": []
   },
   "source": [
    "## Portfolios I"
   ]
  },
  {
   "cell_type": "markdown",
   "id": "912322c0-46b4-4064-b6e9-47f1d54e5652",
   "metadata": {},
   "source": [
    "For this section, create 100 random portfolios of 50 stocks each from the daily returns in `returns`.\n",
    "Equally weight these portfolios and rebalance them daily.\n",
    "Use the same stocks and years $t$ and $t+1$ as the previous section."
   ]
  },
  {
   "cell_type": "markdown",
   "id": "4e6c7897-4651-4a9a-ad66-d1b100423fd0",
   "metadata": {
    "tags": []
   },
   "source": [
    "### Task 7: Does volatility in year $t$ predict *mean returns* in year $t+1$?"
   ]
  },
  {
   "cell_type": "markdown",
   "id": "026ac65b-4418-4f04-a21b-ef1028161ee9",
   "metadata": {
    "tags": []
   },
   "source": [
    "### Task 8: Does CAPM beta in year $t$ predict *mean returns* in year $t+1$?"
   ]
  },
  {
   "cell_type": "markdown",
   "id": "f5c8eddf-b652-4bad-a06e-a6c51899770b",
   "metadata": {
    "tags": []
   },
   "source": [
    "## Portfolios II"
   ]
  },
  {
   "cell_type": "markdown",
   "id": "0bfbed1e-4f80-4ccc-bf0f-5acd63fe17ec",
   "metadata": {},
   "source": [
    "Calculate monthly volatility and total return for *every stock* and *every month* in `returns`.\n",
    "Drop stock-months with fewer than 15 returns.\n",
    "Each month, assign these stocks to one of five portfolios based on their volatility during the previous month.\n",
    "Equally weight these portfolios and rebalance them monthly."
   ]
  },
  {
   "cell_type": "markdown",
   "id": "286789a7-8877-4a2d-be40-716380ce80b7",
   "metadata": {
    "tags": []
   },
   "source": [
    "### Task 9: Do high volatility portfolios have high mean returns and Sharpe Ratios?"
   ]
  },
  {
   "cell_type": "markdown",
   "id": "c75a0b4d-f7f9-4ec4-b9a7-4262a5da8d89",
   "metadata": {},
   "source": [
    "## Discussion"
   ]
  },
  {
   "cell_type": "markdown",
   "id": "d07c0728-b9f8-4ec4-aa6b-f0af951882bf",
   "metadata": {
    "tags": []
   },
   "source": [
    "### Task 10: Discuss and explain any limitations of your analysis above"
   ]
  },
  {
   "cell_type": "markdown",
   "id": "a6390cc3-4903-494a-850f-b7e0b8bdb411",
   "metadata": {
    "tags": []
   },
   "source": [
    "# Criteria"
   ]
  },
  {
   "cell_type": "markdown",
   "id": "17fb4ca3-5ba1-4b3a-bca2-c8333e1005a3",
   "metadata": {},
   "source": [
    "1. All tasks are worth ten points\n",
    "1. Discuss and explain your findings for all ten tasks\n",
    "1. Here are a few more tips\n",
    "    1. ***Your goal is to convince me of your calculations and conclusions***\n",
    "    1. I typically find figures most convincing\n",
    "    1. If you use correlations, consider how a handful of outliers may affect your findings\n",
    "    1. Remove unnecessary code, outputs, and print statements\n",
    "    1. Write functions for calculations that you expect to use more than once\n",
    "    1. ***I will not penalize code style, but I will penalize submissions that are difficult to follow or do not follow these instructions***\n",
    "1. How to submit your project\n",
    "    1. Restart your kernel, run all cells, and save your notebook\n",
    "    1. Export your notebook to PDF (`File > Save And Export Notebook As ... > PDF` in JupyterLab)\n",
    "        1. If this export does not work, you can either (1) Install MikTeX on your laptop with the default settings or (2) use DataCamp Workspace to export your notebook to PDF\n",
    "        1. You do not need to re-run your notebook to export it because notebooks store output cells\n",
    "    1. Upload your notebook and PDF to Canvas\n",
    "    1. Upload your PDF only to Gradescope and tag your teammates\n",
    "    1. Gradescope helps me give better feedback more quickly, but I do not consider it reliable for sharing and storing your submission files"
   ]
  }
 ],
 "metadata": {
  "kernelspec": {
   "display_name": "Python 3 (ipykernel)",
   "language": "python",
   "name": "python3"
  },
  "language_info": {
   "codemirror_mode": {
    "name": "ipython",
    "version": 3
   },
   "file_extension": ".py",
   "mimetype": "text/x-python",
   "name": "python",
   "nbconvert_exporter": "python",
   "pygments_lexer": "ipython3",
   "version": "3.9.12"
  },
  "title": "Project 1",
  "toc-autonumbering": false
 },
 "nbformat": 4,
 "nbformat_minor": 5
}
